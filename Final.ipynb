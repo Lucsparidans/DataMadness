{
 "cells": [
  {
   "cell_type": "markdown",
   "metadata": {},
   "source": [
    "# DataMadness\n",
    "Group: 20  \n",
    "Date: 24/03/2021  \n",
    "Members:\n",
    "- Stijn Coppens, i6158177\n",
    "- Tijn Logtens, i......\n",
    "- Luc Sparidans, i6166245"
   ]
  },
  {
   "cell_type": "markdown",
   "metadata": {},
   "source": [
    "## Table of Contents\n",
    "- Imports / Setup\n",
    "- Question 1\n",
    "- Question 2\n",
    "- Question 3\n",
    "    - Scraping\n",
    "    - Data cleaning\n",
    "    - Analysis\n",
    "- Question 4"
   ]
  },
  {
   "cell_type": "markdown",
   "metadata": {},
   "source": [
    "## Imports / Setup"
   ]
  },
  {
   "cell_type": "code",
   "execution_count": null,
   "metadata": {},
   "outputs": [],
   "source": [
    "# imports and setup\n",
    "\n",
    "import scipy as sc\n",
    "import numpy as np\n",
    "\n",
    "import pandas as pd\n",
    "import statsmodels.formula.api as sm\n",
    "import seaborn as sns\n",
    "from sklearn.preprocessing import MinMaxScaler\n",
    "from sklearn.model_selection import KFold\n",
    "from sklearn.linear_model import LinearRegression\n",
    "from sklearn.preprocessing import PolynomialFeatures\n",
    "\n",
    "from IPython.display import Video\n",
    "\n",
    "import matplotlib.pyplot as plt\n",
    "%matplotlib inline  \n",
    "plt.rcParams['figure.figsize'] = (10, 6)\n",
    "\n",
    "from mpl_toolkits.mplot3d import Axes3D\n",
    "from matplotlib import cm\n",
    "\n",
    "import yfinance as yf\n",
    "from bs4 import BeautifulSoup\n",
    "import urllib.request\n",
    "import datetime"
   ]
  },
  {
   "cell_type": "markdown",
   "metadata": {},
   "source": [
    "## Question 1"
   ]
  },
  {
   "cell_type": "markdown",
   "metadata": {},
   "source": [
    "## Question 2"
   ]
  },
  {
   "cell_type": "markdown",
   "metadata": {},
   "source": [
    "## Question 3"
   ]
  },
  {
   "cell_type": "markdown",
   "metadata": {},
   "source": [
    "### 3.1 Scraping"
   ]
  },
  {
   "cell_type": "code",
   "execution_count": null,
   "metadata": {},
   "outputs": [],
   "source": [
    "url = \"http://www.espn.com/nfl/superbowl/history/winners\"\n",
    "\n",
    "req = urllib.request.Request(url)\n",
    "with urllib.request.urlopen(req) as response:\n",
    "    html = response.read()\n",
    "\n",
    "class_soup = BeautifulSoup(html, 'html.parser')\n",
    "\n",
    "# we can retreive all tables, our desired table is the first one:\n",
    "table_html = class_soup(\"table\")[0]\n",
    "\n",
    "# converting to pandas dataframe\n",
    "dates = pd.read_html(str(table_html), header=0)[0]\n",
    "\n",
    "# selecting only the Year and Date column\n",
    "dates['Year'] = dates['Super Bowl Winners and Results.1']\n",
    "dates['Date'] = dates['Super Bowl Winners and Results.1']\n",
    "dates = dates.drop(['Super Bowl Winners and Results','Super Bowl Winners and Results.1','Super Bowl Winners and Results.2','Super Bowl Winners and Results.3'], axis=1)\n",
    "dates = dates.drop(0)\n",
    "\n",
    "# maping the Year column to only year \n",
    "# make true if you want int instead of string\n",
    "inte = True\n",
    "def year(year):\n",
    "    tmp = year.split()\n",
    "    if inte:\n",
    "        return int(tmp[2])\n",
    "    else:\n",
    "        return tmp[2]\n",
    "    \n",
    "dates['Year'] = dates['Year'].map(year)\n",
    "dates = dates.loc[dates['Year'] > 1999]\n",
    "dates = dates.loc[dates['Year'] < 2021]\n",
    "\n",
    "# Maping the Date column to datetime datatype\n",
    "def date(date):\n",
    "    tmp = date.split()\n",
    "    tmp1 = int(tmp[2])\n",
    "    tmp2 = tmp[1]\n",
    "    tmp2 = int(tmp2[:len(tmp[1])-1])\n",
    "    if 'Jan' in tmp[0]:\n",
    "        return datetime.datetime(tmp1,1,tmp2)\n",
    "    else:\n",
    "        return datetime.datetime(tmp1,2,tmp2)\n",
    "\n",
    "dates['Date'] = dates['Date'].map(date)\n",
    "\n",
    "# Reading the superbowl ads csv and selecting every brand\n",
    "name = pd.read_csv(\"DataSets/superbowl-ads.csv\")\n",
    "name = name.drop_duplicates(subset=['brand'])\n",
    "\n",
    "# constructing a series with the right information\n",
    "d = ['TM','BUD','HYMTF','KO','KIMTF','BUD',' ','PEP','PEP','ETFC']\n",
    "stock_name = pd.Series(data=d, index=name['brand'])"
   ]
  },
  {
   "cell_type": "code",
   "execution_count": null,
   "metadata": {},
   "outputs": [],
   "source": [
    "COMPANIES = ['TM','BUD','HYMTF','KO','KIMTF','PEP']\n",
    "all_data = pd.DataFrame()\n",
    "for NAME in COMPANIES:\n",
    "    stock = yf.Ticker(NAME)\n",
    "    df = stock.history(start=\"2000-01-01\",end=\"2021-01-01\",interval=\"1mo\")\n",
    "    df = df.dropna()\n",
    "    df = df.drop(['Dividends','Stock Splits'],axis=1)\n",
    "    avg_price = (df['Low'] + df['High']) / 2\n",
    "    all_data[NAME] = avg_price"
   ]
  },
  {
   "cell_type": "code",
   "execution_count": null,
   "metadata": {},
   "outputs": [],
   "source": [
    "tmp = []\n",
    "for year in dates['Year']:\n",
    "    tmp.append(all_data.loc[''.join((str(year),'-03-01'))]-all_data.loc[''.join((str(year),'-01-01'))])\n",
    "\n",
    "delta = pd.DataFrame(tmp)\n",
    "delta = delta.set_index(dates['Year'])\n",
    "delta"
   ]
  },
  {
   "cell_type": "markdown",
   "metadata": {},
   "source": [
    "**Note:** Dropped E-Trade and NFL since they do not have valid stock information listed on Yahoo Finance."
   ]
  },
  {
   "cell_type": "markdown",
   "metadata": {},
   "source": [
    "### 3.2 Data Cleaning"
   ]
  },
  {
   "cell_type": "code",
   "execution_count": null,
   "metadata": {},
   "outputs": [],
   "source": [
    "all_data.plot()\n",
    "delta.plot()"
   ]
  },
  {
   "cell_type": "code",
   "execution_count": null,
   "metadata": {},
   "outputs": [],
   "source": [
    "ad = pd.read_csv('../DataMadness/DataSets/superbowl-ads(sorted).csv')\n",
    "ad = ad.drop(['superbowl_ads_dot_com_url','youtube_url'],axis=1)\n",
    "ad = ad.set_index('year')\n",
    "ad = ad[(ad['brand'] != 'E-Trade') & (ad['brand'] != 'NFL')]\n",
    "ad"
   ]
  },
  {
   "cell_type": "code",
   "execution_count": null,
   "metadata": {},
   "outputs": [],
   "source": [
    "name = ad.drop_duplicates(subset=['brand'])\n",
    "d = ['BUD','BUD','PEP','PEP','TM','KO','HYMTF','KIMTF']\n",
    "stock_name = pd.Series(data=d, index=name['brand'])\n",
    "def stock(name):\n",
    "    return stock_name.loc[name]\n",
    "ad['stock_name'] = ad['brand'].map(stock)\n",
    "ad"
   ]
  },
  {
   "cell_type": "code",
   "execution_count": null,
   "metadata": {},
   "outputs": [],
   "source": [
    "price = []\n",
    "for index, row in ad.iterrows():\n",
    "    price.append(delta.loc[index, row['stock_name']])\n",
    "ad['price'] = price\n",
    "ad = ad.dropna()\n",
    "brands = ad.groupby(['brand'])\n",
    "plt.figure()\n",
    "\n",
    "# Iterate through continents\n",
    "\n",
    "for i, (brand_name, price) in enumerate(brands):\n",
    "    # create subplot axes in a 3x3 grid\n",
    "    ax = plt.subplot(3, 3, i + 1) # nrows, ncols, axes position\n",
    "    # plot the continent on these axes\n",
    "    price.plot(ax=ax)\n",
    "    # set the title\n",
    "    ax.set_title(brand_name)\n",
    "\n",
    "plt.tight_layout()\n",
    "plt.show()"
   ]
  },
  {
   "cell_type": "markdown",
   "metadata": {},
   "source": [
    "\n",
    "### 3.3 Analysis"
   ]
  },
  {
   "cell_type": "code",
   "execution_count": null,
   "metadata": {},
   "outputs": [],
   "source": [
    "SLR = sm.ols(\"price ~ celebrity + danger + use_sex\", data=ad).fit()\n",
    "SLR.summary()"
   ]
  },
  {
   "cell_type": "code",
   "execution_count": null,
   "metadata": {},
   "outputs": [],
   "source": [
    "ad_no_kia = ad[ad['brand'] != 'Kia']\n",
    "nk_r = sm.ols(\"price ~ celebrity + danger + use_sex\", data=ad_no_kia).fit()\n",
    "nk_r.summary()"
   ]
  },
  {
   "cell_type": "code",
   "execution_count": null,
   "metadata": {},
   "outputs": [],
   "source": [
    "brnds = ad[['brand','price']].groupby(['brand'])\n",
    "\n",
    "fig, ax = plt.subplots(figsize=(8,6))\n",
    "for label, df in brnds:\n",
    "    df.price.plot(ax=ax, label=label)\n",
    "plt.legend()"
   ]
  },
  {
   "cell_type": "markdown",
   "metadata": {},
   "source": [
    "## Question 4"
   ]
  },
  {
   "cell_type": "code",
   "execution_count": null,
   "metadata": {},
   "outputs": [],
   "source": [
    "grp = ad.groupby('brand')[['funny', 'show_product_quickly', 'patriotic', 'celebrity', 'danger', 'animals', 'use_sex']]\n",
    "tmp = pd.DataFrame(grp.sum())\n",
    "size = grp.size()\n",
    "for index, row in tmp.iterrows():\n",
    "    tmp.loc[index] = row.divide(size.loc[index])\n",
    "tmp"
   ]
  }
 ],
 "metadata": {
  "kernelspec": {
   "display_name": "Python 3",
   "language": "python",
   "name": "python3"
  },
  "language_info": {
   "codemirror_mode": {
    "name": "ipython",
    "version": 3
   },
   "file_extension": ".py",
   "mimetype": "text/x-python",
   "name": "python",
   "nbconvert_exporter": "python",
   "pygments_lexer": "ipython3",
   "version": "3.8.3"
  }
 },
 "nbformat": 4,
 "nbformat_minor": 4
}
