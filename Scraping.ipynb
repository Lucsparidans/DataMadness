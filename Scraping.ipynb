{
 "cells": [
  {
   "cell_type": "markdown",
   "metadata": {},
   "source": [
    "# DataMadness Scraping\n",
    "We will use a program called yFinance in order to scrape data from yahoo Finance."
   ]
  },
  {
   "cell_type": "code",
   "execution_count": 41,
   "metadata": {},
   "outputs": [
    {
     "name": "stderr",
     "output_type": "stream",
     "text": [
      "<ipython-input-41-08eaa00522bf>:11: SettingWithCopyWarning: \n",
      "A value is trying to be set on a copy of a slice from a DataFrame.\n",
      "Try using .loc[row_indexer,col_indexer] = value instead\n",
      "\n",
      "See the caveats in the documentation: https://pandas.pydata.org/pandas-docs/stable/user_guide/indexing.html#returning-a-view-versus-a-copy\n",
      "  out['stocks_income'] = out['Volume'] * out['avg_price']\n"
     ]
    }
   ],
   "source": [
    "import yfinance as yf\n",
    "COMPANIES = ['TM','BUD','HYMTF','KO','KIMTF','BUD','PEP','PEP']\n",
    "for NAME in COMPANIES:\n",
    "    stock = yf.Ticker(NAME)\n",
    "    df = stock.history(start=\"2000-01-01\",end=\"2021-01-01\",interval=\"1mo\")\n",
    "    df = df.dropna()\n",
    "    df = df.drop(['Dividends','Stock Splits'],axis=1)\n",
    "    avg_price = (df['Low'] + df['High']) / 2\n",
    "    df['avg_price'] = avg_price\n",
    "    out = df[['Volume', 'avg_price']]\n",
    "    out['stocks_income'] = out['Volume'] * out['avg_price']\n",
    "    out.to_csv(r'../DataMadness/DataSets/monthly_{}.csv'.format(NAME))"
   ]
  },
  {
   "cell_type": "markdown",
   "metadata": {},
   "source": [
    "**Note:** Dropped E-Trade and NFL since they do not have valid stock information listed on Yahoo Finance."
   ]
  }
 ],
 "metadata": {
  "kernelspec": {
   "display_name": "Python 3",
   "language": "python",
   "name": "python3"
  },
  "language_info": {
   "codemirror_mode": {
    "name": "ipython",
    "version": 3
   },
   "file_extension": ".py",
   "mimetype": "text/x-python",
   "name": "python",
   "nbconvert_exporter": "python",
   "pygments_lexer": "ipython3",
   "version": "3.8.3"
  }
 },
 "nbformat": 4,
 "nbformat_minor": 4
}
